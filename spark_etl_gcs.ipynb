{
 "cells": [
  {
   "cell_type": "markdown",
   "id": "e68cb76e",
   "metadata": {
    "id": "e68cb76e"
   },
   "source": [
    "## Import Library"
   ]
  },
  {
   "cell_type": "code",
   "execution_count": 1,
   "id": "XCS2WwabQ5Zi",
   "metadata": {
    "executionInfo": {
     "elapsed": 60516,
     "status": "ok",
     "timestamp": 1714072719488,
     "user": {
      "displayName": "Piyanat Thepsueb",
      "userId": "04374549745008008128"
     },
     "user_tz": -420
    },
    "id": "XCS2WwabQ5Zi"
   },
   "outputs": [],
   "source": [
    "# %%capture\n",
    "# !pip install pyspark"
   ]
  },
  {
   "cell_type": "code",
   "execution_count": 13,
   "id": "e3ee8d4a-b436-48a0-8d91-196d6ec7ffc4",
   "metadata": {},
   "outputs": [],
   "source": [
    "# %%capture\n",
    "# !pip install gcsfs"
   ]
  },
  {
   "cell_type": "code",
   "execution_count": 2,
   "id": "n4Vg39_hQdde",
   "metadata": {
    "colab": {
     "base_uri": "https://localhost:8080/"
    },
    "executionInfo": {
     "elapsed": 19317,
     "status": "ok",
     "timestamp": 1714072738796,
     "user": {
      "displayName": "Piyanat Thepsueb",
      "userId": "04374549745008008128"
     },
     "user_tz": -420
    },
    "id": "n4Vg39_hQdde",
    "outputId": "7b6ead2d-2828-4944-d8ab-3dfe74c1525f"
   },
   "outputs": [
    {
     "name": "stdout",
     "output_type": "stream",
     "text": [
      "Mounted at /content/drive\n"
     ]
    }
   ],
   "source": [
    "# from google.colab import drive\n",
    "# drive.mount('/content/drive')"
   ]
  },
  {
   "cell_type": "code",
   "execution_count": 63,
   "id": "68ed9769",
   "metadata": {
    "executionInfo": {
     "elapsed": 609,
     "status": "ok",
     "timestamp": 1714072739402,
     "user": {
      "displayName": "Piyanat Thepsueb",
      "userId": "04374549745008008128"
     },
     "user_tz": -420
    },
    "id": "68ed9769"
   },
   "outputs": [],
   "source": [
    "import os\n",
    "import pandas as pd\n",
    "from pyspark import SparkConf\n",
    "from pyspark.sql import SparkSession\n",
    "from pyspark.sql.functions import when"
   ]
  },
  {
   "cell_type": "code",
   "execution_count": 4,
   "id": "E0oZwOc8QYns",
   "metadata": {
    "executionInfo": {
     "elapsed": 16,
     "status": "ok",
     "timestamp": 1714072739402,
     "user": {
      "displayName": "Piyanat Thepsueb",
      "userId": "04374549745008008128"
     },
     "user_tz": -420
    },
    "id": "E0oZwOc8QYns"
   },
   "outputs": [],
   "source": [
    "# root = \"/content/drive/MyDrive/DS525_Project\""
   ]
  },
  {
   "cell_type": "markdown",
   "id": "735ed17b",
   "metadata": {
    "id": "735ed17b"
   },
   "source": [
    "**Create Variables for Credentials**"
   ]
  },
  {
   "cell_type": "code",
   "execution_count": 2,
   "id": "d2b7a13a",
   "metadata": {
    "colab": {
     "base_uri": "https://localhost:8080/",
     "height": 36
    },
    "executionInfo": {
     "elapsed": 16,
     "status": "ok",
     "timestamp": 1714072739403,
     "user": {
      "displayName": "Piyanat Thepsueb",
      "userId": "04374549745008008128"
     },
     "user_tz": -420
    },
    "id": "d2b7a13a",
    "outputId": "29e8ce05-a313-4273-943b-7fda5459cd5e"
   },
   "outputs": [
    {
     "data": {
      "text/plain": [
       "'credentials/ds525-capstone-f36f0f0e6744.json'"
      ]
     },
     "execution_count": 2,
     "metadata": {},
     "output_type": "execute_result"
    }
   ],
   "source": [
    "SERVICE_ACCOUNT_EMAIL = \"jarnjung-ds525-capstone@ds525-capstone.iam.gserviceaccount.com\"\n",
    "KEYFILE_PATH = \"credentials/ds525-capstone-f36f0f0e6744.json\"\n",
    "KEYFILE_PATH"
   ]
  },
  {
   "cell_type": "markdown",
   "id": "936be8b3",
   "metadata": {
    "id": "936be8b3"
   },
   "source": [
    "**Create variables for Directories**"
   ]
  },
  {
   "cell_type": "code",
   "execution_count": 83,
   "id": "4367a247",
   "metadata": {
    "executionInfo": {
     "elapsed": 13,
     "status": "ok",
     "timestamp": 1714072739403,
     "user": {
      "displayName": "Piyanat Thepsueb",
      "userId": "04374549745008008128"
     },
     "user_tz": -420
    },
    "id": "4367a247"
   },
   "outputs": [],
   "source": [
    "bucket = \"gs://ds525-capstone-test-49\"\n",
    "landing_zone = f\"{bucket}/data_raw_air\"\n",
    "cleaned_zone_csv = f\"{bucket}/cleaned_csv\"\n",
    "cleaned_zone_parquet = f\"{bucket}/cleaned_parquet\"\n",
    "cleaned_zone_station = f\"{bucket}/cleaned_station\"\n",
    "data_dir = f\"{bucket}/data\""
   ]
  },
  {
   "cell_type": "markdown",
   "id": "a078826e",
   "metadata": {
    "id": "a078826e"
   },
   "source": [
    "**Set OS environment variable with credentials key**"
   ]
  },
  {
   "cell_type": "code",
   "execution_count": 4,
   "id": "7a58356f",
   "metadata": {
    "executionInfo": {
     "elapsed": 13,
     "status": "ok",
     "timestamp": 1714072739403,
     "user": {
      "displayName": "Piyanat Thepsueb",
      "userId": "04374549745008008128"
     },
     "user_tz": -420
    },
    "id": "7a58356f"
   },
   "outputs": [],
   "source": [
    "os.environ['GOOGLE_APPLICATION_CREDENTIALS'] = KEYFILE_PATH"
   ]
  },
  {
   "cell_type": "markdown",
   "id": "33582149",
   "metadata": {
    "id": "33582149"
   },
   "source": [
    "## Spark Config"
   ]
  },
  {
   "cell_type": "code",
   "execution_count": 5,
   "id": "968bf93f",
   "metadata": {
    "colab": {
     "base_uri": "https://localhost:8080/"
    },
    "executionInfo": {
     "elapsed": 12,
     "status": "ok",
     "timestamp": 1714072739403,
     "user": {
      "displayName": "Piyanat Thepsueb",
      "userId": "04374549745008008128"
     },
     "user_tz": -420
    },
    "id": "968bf93f",
    "outputId": "0e18b83b-a09c-4fca-89e4-c567fde1d9ff"
   },
   "outputs": [
    {
     "data": {
      "text/plain": [
       "<pyspark.conf.SparkConf at 0x7ff2c269ff90>"
      ]
     },
     "execution_count": 5,
     "metadata": {},
     "output_type": "execute_result"
    }
   ],
   "source": [
    "conf = SparkConf()\n",
    "conf.set(\"spark.jars\", \"https://storage.googleapis.com/hadoop-lib/gcs/gcs-connector-hadoop3-latest.jar\")"
   ]
  },
  {
   "cell_type": "code",
   "execution_count": 6,
   "id": "fc7596ec",
   "metadata": {
    "colab": {
     "base_uri": "https://localhost:8080/"
    },
    "executionInfo": {
     "elapsed": 438,
     "status": "ok",
     "timestamp": 1714072739833,
     "user": {
      "displayName": "Piyanat Thepsueb",
      "userId": "04374549745008008128"
     },
     "user_tz": -420
    },
    "id": "fc7596ec",
    "outputId": "eea1c7ac-cc63-4c24-ba2b-aff73380c420"
   },
   "outputs": [
    {
     "data": {
      "text/plain": [
       "<pyspark.conf.SparkConf at 0x7ff2c269ff90>"
      ]
     },
     "execution_count": 6,
     "metadata": {},
     "output_type": "execute_result"
    }
   ],
   "source": [
    "conf.set(\"spark.sql.repl.eagerEval.enabled\", True)"
   ]
  },
  {
   "cell_type": "code",
   "execution_count": 7,
   "id": "6f4ef062",
   "metadata": {
    "executionInfo": {
     "elapsed": 16580,
     "status": "ok",
     "timestamp": 1714072756412,
     "user": {
      "displayName": "Piyanat Thepsueb",
      "userId": "04374549745008008128"
     },
     "user_tz": -420
    },
    "id": "6f4ef062"
   },
   "outputs": [],
   "source": [
    "spark = SparkSession.builder.config(conf=conf).getOrCreate()"
   ]
  },
  {
   "cell_type": "markdown",
   "id": "ftmcke28Rmv_",
   "metadata": {
    "id": "ftmcke28Rmv_"
   },
   "source": [
    "## Spark for Data Processing"
   ]
  },
  {
   "cell_type": "markdown",
   "id": "XPxU66mJRqC8",
   "metadata": {
    "id": "XPxU66mJRqC8"
   },
   "source": [
    "### Test Connection to Google Cloud Service\n",
    "by read a json file in some bucket"
   ]
  },
  {
   "cell_type": "code",
   "execution_count": 8,
   "id": "93c1b329",
   "metadata": {
    "colab": {
     "base_uri": "https://localhost:8080/"
    },
    "executionInfo": {
     "elapsed": 12,
     "status": "ok",
     "timestamp": 1714072756412,
     "user": {
      "displayName": "Piyanat Thepsueb",
      "userId": "04374549745008008128"
     },
     "user_tz": -420
    },
    "id": "93c1b329",
    "outputId": "8df6d16d-03e9-4ee5-e9fa-4e1cc13fdf49"
   },
   "outputs": [
    {
     "name": "stdout",
     "output_type": "stream",
     "text": [
      "gs://ds525-capstone-test-49/data_raw_air\n"
     ]
    }
   ],
   "source": [
    "print(f\"{landing_zone}\")"
   ]
  },
  {
   "cell_type": "code",
   "execution_count": 18,
   "id": "abba52d0",
   "metadata": {
    "executionInfo": {
     "elapsed": 3590,
     "status": "ok",
     "timestamp": 1714072759999,
     "user": {
      "displayName": "Piyanat Thepsueb",
      "userId": "04374549745008008128"
     },
     "user_tz": -420
    },
    "id": "abba52d0"
   },
   "outputs": [],
   "source": [
    "#Read JSON data from GCS\n",
    "# df1 = pd.read_json(f\"{landing_zone}/data_air_2024_04_03_0200.json\")"
   ]
  },
  {
   "cell_type": "code",
   "execution_count": null,
   "id": "zttZSa9KSFqL",
   "metadata": {
    "colab": {
     "base_uri": "https://localhost:8080/",
     "height": 206
    },
    "executionInfo": {
     "elapsed": 13,
     "status": "ok",
     "timestamp": 1714072759999,
     "user": {
      "displayName": "Piyanat Thepsueb",
      "userId": "04374549745008008128"
     },
     "user_tz": -420
    },
    "id": "zttZSa9KSFqL",
    "outputId": "3d176ca5-39c4-4514-91f9-2888ee9575c3"
   },
   "outputs": [],
   "source": [
    "df1.head()"
   ]
  },
  {
   "cell_type": "markdown",
   "id": "0LhaBb6wYpub",
   "metadata": {
    "id": "0LhaBb6wYpub"
   },
   "source": [
    "### Use Spark to read all files in 'landing_zone' Directory"
   ]
  },
  {
   "cell_type": "code",
   "execution_count": 10,
   "id": "SFhvxxHTSFnT",
   "metadata": {
    "colab": {
     "base_uri": "https://localhost:8080/",
     "height": 443
    },
    "executionInfo": {
     "elapsed": 687711,
     "status": "error",
     "timestamp": 1714074781211,
     "user": {
      "displayName": "Piyanat Thepsueb",
      "userId": "04374549745008008128"
     },
     "user_tz": -420
    },
    "id": "SFhvxxHTSFnT",
    "outputId": "58fa1367-ef49-4f76-beb7-af1b2bf4bf23"
   },
   "outputs": [],
   "source": [
    "data = spark.read.option(\"multiline\", \"true\").json(f\"{landing_zone}\")"
   ]
  },
  {
   "cell_type": "code",
   "execution_count": 11,
   "id": "JQgiRVUvkl6R",
   "metadata": {
    "executionInfo": {
     "elapsed": 5,
     "status": "aborted",
     "timestamp": 1714074781211,
     "user": {
      "displayName": "Piyanat Thepsueb",
      "userId": "04374549745008008128"
     },
     "user_tz": -420
    },
    "id": "JQgiRVUvkl6R"
   },
   "outputs": [],
   "source": [
    "# Explode the 'stations' array to convert it into individual rows\n",
    "exploded_data = data.selectExpr(\"explode(stations) as station\")"
   ]
  },
  {
   "cell_type": "code",
   "execution_count": 12,
   "id": "tnr-LQRoSFkK",
   "metadata": {
    "executionInfo": {
     "elapsed": 6,
     "status": "aborted",
     "timestamp": 1714074781212,
     "user": {
      "displayName": "Piyanat Thepsueb",
      "userId": "04374549745008008128"
     },
     "user_tz": -420
    },
    "id": "tnr-LQRoSFkK"
   },
   "outputs": [
    {
     "name": "stdout",
     "output_type": "stream",
     "text": [
      "+--------------------+\n",
      "|             station|\n",
      "+--------------------+\n",
      "|{{{122, 4, PM25},...|\n",
      "|{{{113, 4, PM25},...|\n",
      "|{{{125, 4, PM25},...|\n",
      "|{{{110, 4, PM25},...|\n",
      "|{{{104, 4, PM25},...|\n",
      "|{{{123, 4, PM25},...|\n",
      "|{{{119, 4, PM25},...|\n",
      "|{{{109, 4, PM25},...|\n",
      "|{{{137, 4, PM25},...|\n",
      "|{{{96, 3, PM25}, ...|\n",
      "|{{{92, 3, PM25}, ...|\n",
      "|{{{-1, 0, PM25}, ...|\n",
      "|{{{114, 4, PM25},...|\n",
      "|{{{-1, 0, PM25}, ...|\n",
      "|{{{-1, 0, PM25}, ...|\n",
      "|{{{112, 4, PM25},...|\n",
      "|{{{-1, 0, PM25}, ...|\n",
      "|{{{-1, 0, PM25}, ...|\n",
      "|{{{112, 4, PM25},...|\n",
      "|{{{-1, 0, PM25}, ...|\n",
      "+--------------------+\n",
      "only showing top 20 rows\n",
      "\n"
     ]
    }
   ],
   "source": [
    "exploded_data.show()"
   ]
  },
  {
   "cell_type": "code",
   "execution_count": 19,
   "id": "ONEHFItag1-U",
   "metadata": {
    "executionInfo": {
     "elapsed": 6,
     "status": "aborted",
     "timestamp": 1714074781212,
     "user": {
      "displayName": "Piyanat Thepsueb",
      "userId": "04374549745008008128"
     },
     "user_tz": -420
    },
    "id": "ONEHFItag1-U"
   },
   "outputs": [
    {
     "name": "stdout",
     "output_type": "stream",
     "text": [
      "root\n",
      " |-- station: struct (nullable = true)\n",
      " |    |-- AQILast: struct (nullable = true)\n",
      " |    |    |-- AQI: struct (nullable = true)\n",
      " |    |    |    |-- aqi: string (nullable = true)\n",
      " |    |    |    |-- color_id: string (nullable = true)\n",
      " |    |    |    |-- param: string (nullable = true)\n",
      " |    |    |-- CO: struct (nullable = true)\n",
      " |    |    |    |-- aqi: string (nullable = true)\n",
      " |    |    |    |-- color_id: string (nullable = true)\n",
      " |    |    |    |-- value: string (nullable = true)\n",
      " |    |    |-- NO2: struct (nullable = true)\n",
      " |    |    |    |-- aqi: string (nullable = true)\n",
      " |    |    |    |-- color_id: string (nullable = true)\n",
      " |    |    |    |-- value: string (nullable = true)\n",
      " |    |    |-- O3: struct (nullable = true)\n",
      " |    |    |    |-- aqi: string (nullable = true)\n",
      " |    |    |    |-- color_id: string (nullable = true)\n",
      " |    |    |    |-- value: string (nullable = true)\n",
      " |    |    |-- PM10: struct (nullable = true)\n",
      " |    |    |    |-- aqi: string (nullable = true)\n",
      " |    |    |    |-- color_id: string (nullable = true)\n",
      " |    |    |    |-- value: string (nullable = true)\n",
      " |    |    |-- PM25: struct (nullable = true)\n",
      " |    |    |    |-- aqi: string (nullable = true)\n",
      " |    |    |    |-- color_id: string (nullable = true)\n",
      " |    |    |    |-- value: string (nullable = true)\n",
      " |    |    |-- SO2: struct (nullable = true)\n",
      " |    |    |    |-- aqi: string (nullable = true)\n",
      " |    |    |    |-- color_id: string (nullable = true)\n",
      " |    |    |    |-- value: string (nullable = true)\n",
      " |    |    |-- date: string (nullable = true)\n",
      " |    |    |-- time: string (nullable = true)\n",
      " |    |-- areaEN: string (nullable = true)\n",
      " |    |-- areaTH: string (nullable = true)\n",
      " |    |-- forecast: array (nullable = true)\n",
      " |    |    |-- element: string (containsNull = true)\n",
      " |    |-- lat: string (nullable = true)\n",
      " |    |-- long: string (nullable = true)\n",
      " |    |-- nameEN: string (nullable = true)\n",
      " |    |-- nameTH: string (nullable = true)\n",
      " |    |-- stationID: string (nullable = true)\n",
      " |    |-- stationType: string (nullable = true)\n",
      "\n"
     ]
    }
   ],
   "source": [
    "exploded_data.printSchema()"
   ]
  },
  {
   "cell_type": "code",
   "execution_count": 54,
   "id": "fd14d494-68d3-4d02-98b5-63d2af0385b4",
   "metadata": {},
   "outputs": [
    {
     "name": "stdout",
     "output_type": "stream",
     "text": [
      "+---------+---+\n",
      "|stationID|aqi|\n",
      "+---------+---+\n",
      "|      02t|122|\n",
      "|      03t|113|\n",
      "|      05t|125|\n",
      "|      11t|110|\n",
      "|      12t|104|\n",
      "|      50t|123|\n",
      "|      52t|119|\n",
      "|      53t|109|\n",
      "|      54t|137|\n",
      "|      59t| 96|\n",
      "|      61t| 92|\n",
      "|  bkp100t| -1|\n",
      "|  bkp101t|114|\n",
      "|  bkp102t| -1|\n",
      "|  bkp103t| -1|\n",
      "|  bkp104t|112|\n",
      "|  bkp105t| -1|\n",
      "|  bkp110t| -1|\n",
      "|  bkp112t|112|\n",
      "|  bkp114t| -1|\n",
      "+---------+---+\n",
      "only showing top 20 rows\n",
      "\n"
     ]
    }
   ],
   "source": [
    "exploded_data.select('station.stationID', 'station.AQILast.AQI.aqi').show()"
   ]
  },
  {
   "cell_type": "code",
   "execution_count": 20,
   "id": "JHwXlgvdSFg4",
   "metadata": {
    "executionInfo": {
     "elapsed": 6,
     "status": "aborted",
     "timestamp": 1714074781212,
     "user": {
      "displayName": "Piyanat Thepsueb",
      "userId": "04374549745008008128"
     },
     "user_tz": -420
    },
    "id": "JHwXlgvdSFg4"
   },
   "outputs": [
    {
     "name": "stdout",
     "output_type": "stream",
     "text": [
      "+---------+--------------------+-----------+-----------+-----------+\n",
      "|stationID|              nameEN|        lat|       long|stationType|\n",
      "+---------+--------------------+-----------+-----------+-----------+\n",
      "|      02t|Bansomdejchaopray...|  13.732846| 100.487662|     GROUND|\n",
      "|      03t|Highway NO.3902 k...|  13.636514| 100.414262|     GROUND|\n",
      "|      05t|Thai Meteorologic...|  13.666183| 100.605742|     GROUND|\n",
      "|      11t|National Housing ...|   13.77553| 100.569195|     GROUND|\n",
      "|      12t|Nonsi Witthaya Sc...|13.70806667|100.5473333|     GROUND|\n",
      "|      50t|Chulalongkorn Hos...|  13.729852| 100.536501|     GROUND|\n",
      "|      52t|Thonburi Power Su...|  13.727622| 100.486568|     GROUND|\n",
      "|      53t|Chokchai Police S...| 13.7954248|100.5930298|     GROUND|\n",
      "|      54t|National Housing ...|13.76251667|   100.5502|     GROUND|\n",
      "|      59t|The Government Pu...|  13.783185| 100.540489|     GROUND|\n",
      "|      61t|Bodindecha Sing S...|  13.769634| 100.614567|     GROUND|\n",
      "|  bkp100t|Bueng Kum Distric...|  13.785212| 100.669183|        BKK|\n",
      "|  bkp101t|Khlong Sam Wa Dis...|  13.859911| 100.704002|        BKK|\n",
      "|  bkp102t|Chomthong Distric...|  13.677757| 100.483861|        BKK|\n",
      "|  bkp103t|Bang Phlat Distri...|  13.793965| 100.504956|        BKK|\n",
      "|  bkp104t|Bang Khae Distric...|  13.696314| 100.409049|        BKK|\n",
      "|  bkp105t|Bang Khun Thian D...|  13.659908| 100.435902|        BKK|\n",
      "|  bkp110t|    Phitsanulok Road|   13.76121| 100.517035|        BKK|\n",
      "|  bkp112t|Bang Kho Laem Dis...|   13.69304|  100.50244|        BKK|\n",
      "|  bkp114t|        Lumpini park|  13.732225|100.5448381|        BKK|\n",
      "+---------+--------------------+-----------+-----------+-----------+\n",
      "only showing top 20 rows\n",
      "\n"
     ]
    }
   ],
   "source": [
    "exploded_data.select('station.stationID', 'station.nameEN', 'station.lat', 'station.long', 'station.stationType').show()"
   ]
  },
  {
   "cell_type": "markdown",
   "id": "tVhR73GliG62",
   "metadata": {
    "id": "tVhR73GliG62"
   },
   "source": [
    "### Create temporary Table for read Dataframe"
   ]
  },
  {
   "cell_type": "code",
   "execution_count": 79,
   "id": "wsXufiiMSFdx",
   "metadata": {
    "executionInfo": {
     "elapsed": 6,
     "status": "aborted",
     "timestamp": 1714074781212,
     "user": {
      "displayName": "Piyanat Thepsueb",
      "userId": "04374549745008008128"
     },
     "user_tz": -420
    },
    "id": "wsXufiiMSFdx"
   },
   "outputs": [],
   "source": [
    "exploded_data.createOrReplaceTempView(\"raw_data\")"
   ]
  },
  {
   "cell_type": "markdown",
   "id": "b7d2e579-094c-44cc-9f9d-836509de780b",
   "metadata": {},
   "source": [
    "#### Create temporary Station Table for read Dataframe"
   ]
  },
  {
   "cell_type": "code",
   "execution_count": 80,
   "id": "TV9z6H3vYsQz",
   "metadata": {
    "executionInfo": {
     "elapsed": 6,
     "status": "aborted",
     "timestamp": 1714074781212,
     "user": {
      "displayName": "Piyanat Thepsueb",
      "userId": "04374549745008008128"
     },
     "user_tz": -420
    },
    "id": "TV9z6H3vYsQz"
   },
   "outputs": [],
   "source": [
    "# Select the desired columns\n",
    "station_table = spark.sql(\"\"\"\n",
    "    select distinct\n",
    "        station.stationID,\n",
    "        station.nameTH,\n",
    "        station.nameEN,\n",
    "        station.areaTH,\n",
    "        station.areaEN,\n",
    "        station.stationType,\n",
    "        station.lat,\n",
    "        station.long\n",
    "    from\n",
    "        raw_data\n",
    "\"\"\")"
   ]
  },
  {
   "cell_type": "code",
   "execution_count": 81,
   "id": "E6sAup6YqqlN",
   "metadata": {
    "executionInfo": {
     "elapsed": 5,
     "status": "aborted",
     "timestamp": 1714074781212,
     "user": {
      "displayName": "Piyanat Thepsueb",
      "userId": "04374549745008008128"
     },
     "user_tz": -420
    },
    "id": "E6sAup6YqqlN"
   },
   "outputs": [
    {
     "name": "stdout",
     "output_type": "stream",
     "text": [
      "+---------+--------------------+--------------------+--------------------+--------------------+-----------+-----------+-----------+\n",
      "|stationID|              nameTH|              nameEN|              areaTH|              areaEN|stationType|        lat|       long|\n",
      "+---------+--------------------+--------------------+--------------------+--------------------+-----------+-----------+-----------+\n",
      "|   bkp75t|   สำนักงานเขตสายไหม|Sai Mai District ...|ริมถนนสุขาภิบาล5 ...|Sukhaphiban 5 Roa...|        BKK|  13.896035| 100.660628|\n",
      "|  bkp115t|สวนวชิรเบญจทัศ ถน...|Wacchirabenchatat...|สวนวชิรเบญจทัศ เข...|Wacchirabenchatat...|        BKK| 13.8118516|100.5535825|\n",
      "|     101t|ศาลากลางจังหวัดบุ...|   Buriram City Hall|ต.เสม็ด อ.เมือง, ...|Samed Subdistrict...|     GROUND|  14.945452| 103.105896|\n",
      "|      16t|  โรงไฟฟ้าพระนครใต้ |South Bangkok Pow...|ต.บางโปรง อ.เมือง...|Bang Prong, Meuan...|     GROUND|     13.618|   100.5562|\n",
      "|   bkp71t|  สำนักงานเขตสวนหลวง|Suan Luang Distri...|ริมถนนพัฒนาการ เข...| Suan Luang, Bangkok|        BKK|  13.731051| 100.651705|\n",
      "|      50t| โรงพยาบาลจุฬาลงกรณ์|Chulalongkorn Hos...|ริมถนนพระราม 4 เข...|Rama IV Rd. Khet ...|     GROUND|  13.729852| 100.536501|\n",
      "|   bkp59t|สำนักงานเขตราชเทว...|Ratchathewi Distr...|ริมถนนพญาไท เขตรา...|Phayathai Roadsid...|        BKK| 13.7590851|100.5345788|\n",
      "|     107t|สวนสาธารณะแก่งดอน...|KAENG DON KLANG PARK|ต.กาฬสินธุ์ อ.เมื...|Kalasin Subdistri...|     GROUND|    16.4436|    103.513|\n",
      "|  bkp100t|  สำนักงานเขตบึงกุ่ม|Bueng Kum Distric...|แขวงคลองกุ่ม เขตบ...|Khlong Kum, Bueng...|        BKK|  13.785212| 100.669183|\n",
      "|      67t|สำนักงานเทศบาลเมื...|Municipality Offi...|ต.ในเวียง อ.เมือง...|Nai Wiang, Mueang...|     GROUND| 18.7888833|100.7763166|\n",
      "|      o38|      ค่ายสุรสิงหนาท|  Khai Surasinghanat|ต.ตะพง อ.เมือง, ร...|Taphong, Mueang, ...|     MOBILE|  12.648576|  101.32245|\n",
      "|      84t|สำนักงานสาธารณสุข...|Samut Songkhram H...| ต.ลาดใหญ่ อ.เมือ...|Mueang, Samut Son...|     GROUND|  13.428581| 100.024664|\n",
      "|      40t|การประปาส่วนภูมิภ...|Provincial Waterw...|ต.แม่เมาะ อ.แม่เม...|Mae Mo, Mae Mo, L...|     GROUND| 18.2826333| 99.6598166|\n",
      "|  bkp102t|   สำนักงานเขตจอมทอง|Chomthong Distric...| เขตจอมทอง, กรุงเทพฯ|  Chomthong, Bangkok|        BKK|  13.677757| 100.483861|\n",
      "|   bkp97t|  สำนักงานเขตหลักสี่|Lak Si District O...|แขวงทุ่งสองห้อง เ...|Thung Song Hong, ...|        BKK|  13.887395| 100.579247|\n",
      "|  bkp130t|    สวนกีฬารามอินทรา|Ramintra Sports Park|สวนกีฬารามอินทรา ...|Ramintra Sports P...|        BKK| 13.8778763|100.6207085|\n",
      "|      34t|สำนักงานสิ่งแวดล้...|Environment Agenc...|ต.บ้านสวน อ.เมือง...|Ban Suan, Mueang,...|     GROUND|13.35461667|100.9792167|\n",
      "|     100t|สถานีอุตุนิยมวิทย...|Chanthaburi Meteo...|ต.วัดใหม่ อ.เมือง...|Wat Mai Subdistri...|     GROUND| 12.6095704|102.1040804|\n",
      "|   bkp82t|        แยกมไหศวรรย์|Mahaisawan Inters...|ริมถนนรัชดาภิเษก-...|Ratchadaphisek Ro...|        BKK|   13.70515|  100.48465|\n",
      "|      58t|สำนักงานทรัพยากรธ...|Natural Resources...|ต.จองคำ อ.เมือง, ...|Chong Kham, Meuan...|     GROUND|   19.30455|   97.97165|\n",
      "+---------+--------------------+--------------------+--------------------+--------------------+-----------+-----------+-----------+\n",
      "only showing top 20 rows\n",
      "\n"
     ]
    }
   ],
   "source": [
    "station_table.show()"
   ]
  },
  {
   "cell_type": "code",
   "execution_count": 28,
   "id": "IOTC40atYsNi",
   "metadata": {
    "id": "IOTC40atYsNi"
   },
   "outputs": [],
   "source": [
    "# Save the DataFrame as a CSV file\n",
    "file_name = \"station\"\n",
    "station_table.write.csv(file_name, header=True, mode='overwrite')"
   ]
  },
  {
   "cell_type": "code",
   "execution_count": 85,
   "id": "EdbblEV3YsKL",
   "metadata": {
    "id": "EdbblEV3YsKL"
   },
   "outputs": [],
   "source": [
    "# Save the DataFrame as a CSV file\n",
    "station_table.write.mode(\"overwrite\").csv(cleaned_zone_station)"
   ]
  },
  {
   "cell_type": "code",
   "execution_count": 32,
   "id": "76d17820-3cff-425f-9132-d596cc9502fc",
   "metadata": {},
   "outputs": [],
   "source": [
    "station_df = station_table"
   ]
  },
  {
   "cell_type": "code",
   "execution_count": 33,
   "id": "ebf09918-bbf5-4983-8234-a5388883cbf5",
   "metadata": {},
   "outputs": [
    {
     "data": {
      "text/html": [
       "<table border='1'>\n",
       "<tr><th>stationID</th><th>nameTH</th><th>nameEN</th><th>areaTH</th><th>areaEN</th><th>stationType</th><th>lat</th><th>long</th></tr>\n",
       "<tr><td>bkp75t</td><td>สำนักงานเขตสายไหม</td><td>Sai Mai District ...</td><td>ริมถนนสุขาภิบาล5 ...</td><td>Sukhaphiban 5 Roa...</td><td>BKK</td><td>13.896035</td><td>100.660628</td></tr>\n",
       "<tr><td>bkp115t</td><td>สวนวชิรเบญจทัศ ถน...</td><td>Wacchirabenchatat...</td><td>สวนวชิรเบญจทัศ เข...</td><td>Wacchirabenchatat...</td><td>BKK</td><td>13.8118516</td><td>100.5535825</td></tr>\n",
       "<tr><td>101t</td><td>ศาลากลางจังหวัดบุ...</td><td>Buriram City Hall</td><td>ต.เสม็ด อ.เมือง, ...</td><td>Samed Subdistrict...</td><td>GROUND</td><td>14.945452</td><td>103.105896</td></tr>\n",
       "<tr><td>16t</td><td>โรงไฟฟ้าพระนครใต้ </td><td>South Bangkok Pow...</td><td>ต.บางโปรง อ.เมือง...</td><td>Bang Prong, Meuan...</td><td>GROUND</td><td>13.618</td><td>100.5562</td></tr>\n",
       "<tr><td>bkp71t</td><td>สำนักงานเขตสวนหลวง</td><td>Suan Luang Distri...</td><td>ริมถนนพัฒนาการ เข...</td><td>Suan Luang, Bangkok</td><td>BKK</td><td>13.731051</td><td>100.651705</td></tr>\n",
       "<tr><td>50t</td><td>โรงพยาบาลจุฬาลงกรณ์</td><td>Chulalongkorn Hos...</td><td>ริมถนนพระราม 4 เข...</td><td>Rama IV Rd. Khet ...</td><td>GROUND</td><td>13.729852</td><td>100.536501</td></tr>\n",
       "<tr><td>bkp59t</td><td>สำนักงานเขตราชเทว...</td><td>Ratchathewi Distr...</td><td>ริมถนนพญาไท เขตรา...</td><td>Phayathai Roadsid...</td><td>BKK</td><td>13.7590851</td><td>100.5345788</td></tr>\n",
       "<tr><td>107t</td><td>สวนสาธารณะแก่งดอน...</td><td>KAENG DON KLANG PARK</td><td>ต.กาฬสินธุ์ อ.เมื...</td><td>Kalasin Subdistri...</td><td>GROUND</td><td>16.4436</td><td>103.513</td></tr>\n",
       "<tr><td>bkp100t</td><td>สำนักงานเขตบึงกุ่ม</td><td>Bueng Kum Distric...</td><td>แขวงคลองกุ่ม เขตบ...</td><td>Khlong Kum, Bueng...</td><td>BKK</td><td>13.785212</td><td>100.669183</td></tr>\n",
       "<tr><td>67t</td><td>สำนักงานเทศบาลเมื...</td><td>Municipality Offi...</td><td>ต.ในเวียง อ.เมือง...</td><td>Nai Wiang, Mueang...</td><td>GROUND</td><td>18.7888833</td><td>100.7763166</td></tr>\n",
       "<tr><td>o38</td><td>ค่ายสุรสิงหนาท</td><td>Khai Surasinghanat</td><td>ต.ตะพง อ.เมือง, ร...</td><td>Taphong, Mueang, ...</td><td>MOBILE</td><td>12.648576</td><td>101.32245</td></tr>\n",
       "<tr><td>84t</td><td>สำนักงานสาธารณสุข...</td><td>Samut Songkhram H...</td><td> ต.ลาดใหญ่ อ.เมือ...</td><td>Mueang, Samut Son...</td><td>GROUND</td><td>13.428581</td><td>100.024664</td></tr>\n",
       "<tr><td>40t</td><td>การประปาส่วนภูมิภ...</td><td>Provincial Waterw...</td><td>ต.แม่เมาะ อ.แม่เม...</td><td>Mae Mo, Mae Mo, L...</td><td>GROUND</td><td>18.2826333</td><td>99.6598166</td></tr>\n",
       "<tr><td>bkp102t</td><td>สำนักงานเขตจอมทอง</td><td>Chomthong Distric...</td><td>เขตจอมทอง, กรุงเทพฯ</td><td>Chomthong, Bangkok</td><td>BKK</td><td>13.677757</td><td>100.483861</td></tr>\n",
       "<tr><td>bkp97t</td><td>สำนักงานเขตหลักสี่</td><td>Lak Si District O...</td><td>แขวงทุ่งสองห้อง เ...</td><td>Thung Song Hong, ...</td><td>BKK</td><td>13.887395</td><td>100.579247</td></tr>\n",
       "<tr><td>bkp130t</td><td>สวนกีฬารามอินทรา</td><td>Ramintra Sports Park</td><td>สวนกีฬารามอินทรา ...</td><td>Ramintra Sports P...</td><td>BKK</td><td>13.8778763</td><td>100.6207085</td></tr>\n",
       "<tr><td>34t</td><td>สำนักงานสิ่งแวดล้...</td><td>Environment Agenc...</td><td>ต.บ้านสวน อ.เมือง...</td><td>Ban Suan, Mueang,...</td><td>GROUND</td><td>13.35461667</td><td>100.9792167</td></tr>\n",
       "<tr><td>100t</td><td>สถานีอุตุนิยมวิทย...</td><td>Chanthaburi Meteo...</td><td>ต.วัดใหม่ อ.เมือง...</td><td>Wat Mai Subdistri...</td><td>GROUND</td><td>12.6095704</td><td>102.1040804</td></tr>\n",
       "<tr><td>bkp82t</td><td>แยกมไหศวรรย์</td><td>Mahaisawan Inters...</td><td>ริมถนนรัชดาภิเษก-...</td><td>Ratchadaphisek Ro...</td><td>BKK</td><td>13.70515</td><td>100.48465</td></tr>\n",
       "<tr><td>58t</td><td>สำนักงานทรัพยากรธ...</td><td>Natural Resources...</td><td>ต.จองคำ อ.เมือง, ...</td><td>Chong Kham, Meuan...</td><td>GROUND</td><td>19.30455</td><td>97.97165</td></tr>\n",
       "</table>\n",
       "only showing top 20 rows\n"
      ],
      "text/plain": [
       "+---------+--------------------+--------------------+--------------------+--------------------+-----------+-----------+-----------+\n",
       "|stationID|              nameTH|              nameEN|              areaTH|              areaEN|stationType|        lat|       long|\n",
       "+---------+--------------------+--------------------+--------------------+--------------------+-----------+-----------+-----------+\n",
       "|   bkp75t|   สำนักงานเขตสายไหม|Sai Mai District ...|ริมถนนสุขาภิบาล5 ...|Sukhaphiban 5 Roa...|        BKK|  13.896035| 100.660628|\n",
       "|  bkp115t|สวนวชิรเบญจทัศ ถน...|Wacchirabenchatat...|สวนวชิรเบญจทัศ เข...|Wacchirabenchatat...|        BKK| 13.8118516|100.5535825|\n",
       "|     101t|ศาลากลางจังหวัดบุ...|   Buriram City Hall|ต.เสม็ด อ.เมือง, ...|Samed Subdistrict...|     GROUND|  14.945452| 103.105896|\n",
       "|      16t|  โรงไฟฟ้าพระนครใต้ |South Bangkok Pow...|ต.บางโปรง อ.เมือง...|Bang Prong, Meuan...|     GROUND|     13.618|   100.5562|\n",
       "|   bkp71t|  สำนักงานเขตสวนหลวง|Suan Luang Distri...|ริมถนนพัฒนาการ เข...| Suan Luang, Bangkok|        BKK|  13.731051| 100.651705|\n",
       "|      50t| โรงพยาบาลจุฬาลงกรณ์|Chulalongkorn Hos...|ริมถนนพระราม 4 เข...|Rama IV Rd. Khet ...|     GROUND|  13.729852| 100.536501|\n",
       "|   bkp59t|สำนักงานเขตราชเทว...|Ratchathewi Distr...|ริมถนนพญาไท เขตรา...|Phayathai Roadsid...|        BKK| 13.7590851|100.5345788|\n",
       "|     107t|สวนสาธารณะแก่งดอน...|KAENG DON KLANG PARK|ต.กาฬสินธุ์ อ.เมื...|Kalasin Subdistri...|     GROUND|    16.4436|    103.513|\n",
       "|  bkp100t|  สำนักงานเขตบึงกุ่ม|Bueng Kum Distric...|แขวงคลองกุ่ม เขตบ...|Khlong Kum, Bueng...|        BKK|  13.785212| 100.669183|\n",
       "|      67t|สำนักงานเทศบาลเมื...|Municipality Offi...|ต.ในเวียง อ.เมือง...|Nai Wiang, Mueang...|     GROUND| 18.7888833|100.7763166|\n",
       "|      o38|      ค่ายสุรสิงหนาท|  Khai Surasinghanat|ต.ตะพง อ.เมือง, ร...|Taphong, Mueang, ...|     MOBILE|  12.648576|  101.32245|\n",
       "|      84t|สำนักงานสาธารณสุข...|Samut Songkhram H...| ต.ลาดใหญ่ อ.เมือ...|Mueang, Samut Son...|     GROUND|  13.428581| 100.024664|\n",
       "|      40t|การประปาส่วนภูมิภ...|Provincial Waterw...|ต.แม่เมาะ อ.แม่เม...|Mae Mo, Mae Mo, L...|     GROUND| 18.2826333| 99.6598166|\n",
       "|  bkp102t|   สำนักงานเขตจอมทอง|Chomthong Distric...| เขตจอมทอง, กรุงเทพฯ|  Chomthong, Bangkok|        BKK|  13.677757| 100.483861|\n",
       "|   bkp97t|  สำนักงานเขตหลักสี่|Lak Si District O...|แขวงทุ่งสองห้อง เ...|Thung Song Hong, ...|        BKK|  13.887395| 100.579247|\n",
       "|  bkp130t|    สวนกีฬารามอินทรา|Ramintra Sports Park|สวนกีฬารามอินทรา ...|Ramintra Sports P...|        BKK| 13.8778763|100.6207085|\n",
       "|      34t|สำนักงานสิ่งแวดล้...|Environment Agenc...|ต.บ้านสวน อ.เมือง...|Ban Suan, Mueang,...|     GROUND|13.35461667|100.9792167|\n",
       "|     100t|สถานีอุตุนิยมวิทย...|Chanthaburi Meteo...|ต.วัดใหม่ อ.เมือง...|Wat Mai Subdistri...|     GROUND| 12.6095704|102.1040804|\n",
       "|   bkp82t|        แยกมไหศวรรย์|Mahaisawan Inters...|ริมถนนรัชดาภิเษก-...|Ratchadaphisek Ro...|        BKK|   13.70515|  100.48465|\n",
       "|      58t|สำนักงานทรัพยากรธ...|Natural Resources...|ต.จองคำ อ.เมือง, ...|Chong Kham, Meuan...|     GROUND|   19.30455|   97.97165|\n",
       "+---------+--------------------+--------------------+--------------------+--------------------+-----------+-----------+-----------+\n",
       "only showing top 20 rows"
      ]
     },
     "execution_count": 33,
     "metadata": {},
     "output_type": "execute_result"
    }
   ],
   "source": [
    "station_df"
   ]
  },
  {
   "cell_type": "markdown",
   "id": "81d6d06d-a34c-4ecc-b92d-0fb2be4d037b",
   "metadata": {},
   "source": [
    "#### Create temporary Data Table for read Dataframe"
   ]
  },
  {
   "cell_type": "code",
   "execution_count": 71,
   "id": "e46ce85e-4af9-460e-b2a2-162ef02023a9",
   "metadata": {},
   "outputs": [],
   "source": [
    "exploded_data.createOrReplaceTempView(\"raw_data\")"
   ]
  },
  {
   "cell_type": "code",
   "execution_count": 73,
   "id": "038c29b8-7960-44d2-b1e5-0fe17c9cef28",
   "metadata": {},
   "outputs": [],
   "source": [
    "# Select the desired columns\n",
    "data_table = spark.sql(\"\"\"\n",
    "    select\n",
    "        station.stationID as station_id,\n",
    "        station.AQILast.date as date,\n",
    "        station.AQILast.time as time,\n",
    "        station.AQILast.AQI.aqi as aqi_val, \n",
    "        station.AQILast.AQI.color_id as aqi_color_id, \n",
    "        station.AQILast.CO.value as co_val,\n",
    "        station.AQILast.CO.color_id as co_color_id,\n",
    "        station.AQILast.NO2.value as no2_val, \n",
    "        station.AQILast.NO2.color_id as no2_color_id, \n",
    "        station.AQILast.O3.value as o3_val,\n",
    "        station.AQILast.O3.color_id as o3_color_id,\n",
    "        station.AQILast.PM10.value as pm10_val, \n",
    "        station.AQILast.PM10.color_id as pm10_color_id,\n",
    "        station.AQILast.PM25.value as pm25_val,  \n",
    "        station.AQILast.PM25.color_id as pm25_color_id,\n",
    "        station.AQILast.SO2.value as so2_val,  \n",
    "        station.AQILast.SO2.color_id as so2_color_id \n",
    "    from\n",
    "        raw_data\n",
    "\"\"\")"
   ]
  },
  {
   "cell_type": "code",
   "execution_count": 74,
   "id": "1d7505d3-1cb8-49b8-a711-c877baf82f10",
   "metadata": {},
   "outputs": [
    {
     "name": "stdout",
     "output_type": "stream",
     "text": [
      "+----------+----------+-----+-------+------------+------+-----------+-------+------------+------+-----------+--------+-------------+--------+-------------+-------+------------+\n",
      "|station_id|      date| time|aqi_val|aqi_color_id|co_val|co_color_id|no2_val|no2_color_id|o3_val|o3_color_id|pm10_val|pm10_color_id|pm25_val|pm25_color_id|so2_val|so2_color_id|\n",
      "+----------+----------+-----+-------+------------+------+-----------+-------+------------+------+-----------+--------+-------------+--------+-------------+-------+------------+\n",
      "|       02t|2024-04-21|21:00|    122|           4|    -1|          0|     -1|           0|    -1|          0|      -1|            0|    45.6|            4|     -1|           0|\n",
      "|       03t|2024-04-21|17:00|    113|           4|    -1|          0|     -1|           0|    -1|          0|      -1|            0|    42.0|            4|     -1|           0|\n",
      "|       05t|2024-04-21|21:00|    125|           4|    -1|          0|     -1|           0|    -1|          0|      -1|            0|    46.7|            4|     -1|           0|\n",
      "|       11t|2024-04-21|21:00|    110|           4|    -1|          0|     -1|           0|    -1|          0|      -1|            0|    40.9|            4|     -1|           0|\n",
      "|       12t|2024-04-21|21:00|    104|           4|    -1|          0|     -1|           0|    -1|          0|      -1|            0|    38.7|            4|     -1|           0|\n",
      "|       50t|2024-04-21|20:00|    123|           4|    -1|          0|     -1|           0|    -1|          0|      -1|            0|    45.8|            4|     -1|           0|\n",
      "|       52t|2024-04-21|21:00|    119|           4|    -1|          0|     -1|           0|    -1|          0|      -1|            0|    44.4|            4|     -1|           0|\n",
      "|       53t|2024-04-21|21:00|    109|           4|    -1|          0|     -1|           0|    -1|          0|      -1|            0|    40.7|            4|     -1|           0|\n",
      "|       54t|2024-04-21|21:00|    137|           4|    -1|          0|     -1|           0|    -1|          0|      99|            3|    51.3|            4|     -1|           0|\n",
      "|       59t|2024-04-21|21:00|     96|           3|    -1|          0|     -1|           0|    -1|          0|      59|            2|    36.4|            3|     -1|           0|\n",
      "|       61t|2024-04-21|21:00|     92|           3|    -1|          0|     -1|           0|    -1|          0|      -1|            0|    35.6|            3|     -1|           0|\n",
      "|   bkp100t|2024-04-21|21:00|     -1|           0|    -1|          0|     -1|           0|    -1|          0|      -1|            0|      -1|            0|     -1|           0|\n",
      "|   bkp101t|2024-04-21|21:00|    114|           4|    -1|          0|     -1|           0|    -1|          0|      -1|            0|    42.5|            4|     -1|           0|\n",
      "|   bkp102t|2024-04-21|21:00|     -1|           0|    -1|          0|     -1|           0|    -1|          0|      -1|            0|      -1|            0|     -1|           0|\n",
      "|   bkp103t|2024-04-21|21:00|     -1|           0|    -1|          0|     -1|           0|    -1|          0|      -1|            0|      -1|            0|     -1|           0|\n",
      "|   bkp104t|2024-04-21|07:00|    112|           4|    -1|          0|     -1|           0|    -1|          0|      -1|            0|    41.8|            4|     -1|           0|\n",
      "|   bkp105t|2024-04-21|20:00|     -1|           0|    -1|          0|     -1|           0|    -1|          0|      -1|            0|      -1|            0|     -1|           0|\n",
      "|   bkp110t|2023-11-14|11:00|     -1|           0|    -1|          0|     -1|           0|    -1|          0|      -1|            0|      -1|            0|     -1|           0|\n",
      "|   bkp112t|2024-04-21|21:00|    112|           4|    -1|          0|     -1|           0|    -1|          0|      -1|            0|    41.6|            4|     -1|           0|\n",
      "|   bkp114t|2024-03-01|06:00|     -1|           0|    -1|          0|     -1|           0|    -1|          0|      -1|            0|      -1|            0|     -1|           0|\n",
      "+----------+----------+-----+-------+------------+------+-----------+-------+------------+------+-----------+--------+-------------+--------+-------------+-------+------------+\n",
      "only showing top 20 rows\n",
      "\n"
     ]
    }
   ],
   "source": [
    "data_table.show()        "
   ]
  },
  {
   "cell_type": "code",
   "execution_count": 75,
   "id": "c1aae6bb-7744-4aac-8f50-4001c6e8dea2",
   "metadata": {},
   "outputs": [],
   "source": [
    "# Replace values less than 0 with 0\n",
    "data_table = data_table.withColumn(\"aqi_val\", when(data_table[\"aqi_val\"] < 0, 0).otherwise(data_table[\"aqi_val\"]))\n",
    "data_table = data_table.withColumn(\"co_val\", when(data_table[\"co_val\"] < 0, 0).otherwise(data_table[\"co_val\"]))\n",
    "data_table = data_table.withColumn(\"no2_val\", when(data_table[\"no2_val\"] < 0, 0).otherwise(data_table[\"no2_val\"]))\n",
    "data_table = data_table.withColumn(\"o3_val\", when(data_table[\"o3_val\"] < 0, 0).otherwise(data_table[\"o3_val\"]))\n",
    "data_table = data_table.withColumn(\"pm10_val\", when(data_table[\"pm10_val\"] < 0, 0).otherwise(data_table[\"pm10_val\"]))\n",
    "data_table = data_table.withColumn(\"pm25_val\", when(data_table[\"pm25_val\"] < 0, 0).otherwise(data_table[\"pm25_val\"]))\n",
    "data_table = data_table.withColumn(\"so2_val\", when(data_table[\"so2_val\"] < 0, 0).otherwise(data_table[\"so2_val\"]))\n"
   ]
  },
  {
   "cell_type": "code",
   "execution_count": 76,
   "id": "3dd84f52-3ab5-4ae9-9618-5ffeaeb583f4",
   "metadata": {},
   "outputs": [
    {
     "name": "stdout",
     "output_type": "stream",
     "text": [
      "+----------+----------+-----+-------+------------+------+-----------+-------+------------+------+-----------+--------+-------------+--------+-------------+-------+------------+\n",
      "|station_id|      date| time|aqi_val|aqi_color_id|co_val|co_color_id|no2_val|no2_color_id|o3_val|o3_color_id|pm10_val|pm10_color_id|pm25_val|pm25_color_id|so2_val|so2_color_id|\n",
      "+----------+----------+-----+-------+------------+------+-----------+-------+------------+------+-----------+--------+-------------+--------+-------------+-------+------------+\n",
      "|       02t|2024-04-21|21:00|    122|           4|     0|          0|      0|           0|     0|          0|       0|            0|    45.6|            4|      0|           0|\n",
      "|       03t|2024-04-21|17:00|    113|           4|     0|          0|      0|           0|     0|          0|       0|            0|    42.0|            4|      0|           0|\n",
      "|       05t|2024-04-21|21:00|    125|           4|     0|          0|      0|           0|     0|          0|       0|            0|    46.7|            4|      0|           0|\n",
      "|       11t|2024-04-21|21:00|    110|           4|     0|          0|      0|           0|     0|          0|       0|            0|    40.9|            4|      0|           0|\n",
      "|       12t|2024-04-21|21:00|    104|           4|     0|          0|      0|           0|     0|          0|       0|            0|    38.7|            4|      0|           0|\n",
      "|       50t|2024-04-21|20:00|    123|           4|     0|          0|      0|           0|     0|          0|       0|            0|    45.8|            4|      0|           0|\n",
      "|       52t|2024-04-21|21:00|    119|           4|     0|          0|      0|           0|     0|          0|       0|            0|    44.4|            4|      0|           0|\n",
      "|       53t|2024-04-21|21:00|    109|           4|     0|          0|      0|           0|     0|          0|       0|            0|    40.7|            4|      0|           0|\n",
      "|       54t|2024-04-21|21:00|    137|           4|     0|          0|      0|           0|     0|          0|      99|            3|    51.3|            4|      0|           0|\n",
      "|       59t|2024-04-21|21:00|     96|           3|     0|          0|      0|           0|     0|          0|      59|            2|    36.4|            3|      0|           0|\n",
      "|       61t|2024-04-21|21:00|     92|           3|     0|          0|      0|           0|     0|          0|       0|            0|    35.6|            3|      0|           0|\n",
      "|   bkp100t|2024-04-21|21:00|      0|           0|     0|          0|      0|           0|     0|          0|       0|            0|       0|            0|      0|           0|\n",
      "|   bkp101t|2024-04-21|21:00|    114|           4|     0|          0|      0|           0|     0|          0|       0|            0|    42.5|            4|      0|           0|\n",
      "|   bkp102t|2024-04-21|21:00|      0|           0|     0|          0|      0|           0|     0|          0|       0|            0|       0|            0|      0|           0|\n",
      "|   bkp103t|2024-04-21|21:00|      0|           0|     0|          0|      0|           0|     0|          0|       0|            0|       0|            0|      0|           0|\n",
      "|   bkp104t|2024-04-21|07:00|    112|           4|     0|          0|      0|           0|     0|          0|       0|            0|    41.8|            4|      0|           0|\n",
      "|   bkp105t|2024-04-21|20:00|      0|           0|     0|          0|      0|           0|     0|          0|       0|            0|       0|            0|      0|           0|\n",
      "|   bkp110t|2023-11-14|11:00|      0|           0|     0|          0|      0|           0|     0|          0|       0|            0|       0|            0|      0|           0|\n",
      "|   bkp112t|2024-04-21|21:00|    112|           4|     0|          0|      0|           0|     0|          0|       0|            0|    41.6|            4|      0|           0|\n",
      "|   bkp114t|2024-03-01|06:00|      0|           0|     0|          0|      0|           0|     0|          0|       0|            0|       0|            0|      0|           0|\n",
      "+----------+----------+-----+-------+------------+------+-----------+-------+------------+------+-----------+--------+-------------+--------+-------------+-------+------------+\n",
      "only showing top 20 rows\n",
      "\n"
     ]
    }
   ],
   "source": [
    "data_table.show()     "
   ]
  },
  {
   "cell_type": "markdown",
   "id": "37dc24ae-317f-4ba4-bdee-2863d8366f5e",
   "metadata": {},
   "source": [
    "#### Save Structured Data im Cleaned Zone"
   ]
  },
  {
   "cell_type": "code",
   "execution_count": 77,
   "id": "8caa8713-9dac-4a4c-bf57-ddf2fc32e106",
   "metadata": {},
   "outputs": [],
   "source": [
    "data_table.write.partitionBy(\"date\").mode(\"overwrite\").csv(cleaned_zone_csv )"
   ]
  },
  {
   "cell_type": "code",
   "execution_count": 78,
   "id": "9cebfc68-8af6-468d-94c2-90ca00ebd247",
   "metadata": {},
   "outputs": [],
   "source": [
    "data_table.write.partitionBy(\"date\").mode(\"overwrite\").parquet(cleaned_zone_parquet)"
   ]
  },
  {
   "cell_type": "markdown",
   "id": "89cec9d8-92d9-44ed-a6e4-937d7e950d1d",
   "metadata": {},
   "source": [
    "### Create the Data Table"
   ]
  },
  {
   "cell_type": "code",
   "execution_count": 84,
   "id": "70b76f5f-e79b-40d9-8961-581136070fcf",
   "metadata": {},
   "outputs": [],
   "source": [
    "data_table.write.mode(\"overwrite\").csv(data_dir)"
   ]
  },
  {
   "cell_type": "code",
   "execution_count": null,
   "id": "3debcc5c-aa72-4b8a-ab4d-790194f311fc",
   "metadata": {},
   "outputs": [],
   "source": []
  }
 ],
 "metadata": {
  "colab": {
   "provenance": []
  },
  "kernelspec": {
   "display_name": "Python 3 (ipykernel)",
   "language": "python",
   "name": "python3"
  },
  "language_info": {
   "codemirror_mode": {
    "name": "ipython",
    "version": 3
   },
   "file_extension": ".py",
   "mimetype": "text/x-python",
   "name": "python",
   "nbconvert_exporter": "python",
   "pygments_lexer": "ipython3",
   "version": "3.11.6"
  }
 },
 "nbformat": 4,
 "nbformat_minor": 5
}
